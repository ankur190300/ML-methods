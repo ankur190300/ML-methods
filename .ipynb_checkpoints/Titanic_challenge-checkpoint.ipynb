{
 "cells": [
  {
   "cell_type": "code",
   "execution_count": 112,
   "metadata": {},
   "outputs": [],
   "source": [
    "import pandas as pd \n",
    "import numpy as np \n",
    "from sklearn.preprocessing import LabelEncoder\n",
    "from sklearn.tree import DecisionTreeClassifier"
   ]
  },
  {
   "cell_type": "markdown",
   "metadata": {},
   "source": [
    "# Preprocess the data"
   ]
  },
  {
   "cell_type": "code",
   "execution_count": 150,
   "metadata": {},
   "outputs": [
    {
     "name": "stdout",
     "output_type": "stream",
     "text": [
      "<class 'pandas.core.frame.DataFrame'>\n",
      "RangeIndex: 1009 entries, 0 to 1008\n",
      "Data columns (total 14 columns):\n",
      "pclass       1009 non-null float64\n",
      "survived     1009 non-null float64\n",
      "name         1009 non-null object\n",
      "sex          1009 non-null object\n",
      "age          812 non-null float64\n",
      "sibsp        1009 non-null float64\n",
      "parch        1009 non-null float64\n",
      "ticket       1009 non-null object\n",
      "fare         1008 non-null float64\n",
      "cabin        229 non-null object\n",
      "embarked     1008 non-null object\n",
      "boat         374 non-null object\n",
      "body         98 non-null float64\n",
      "home.dest    582 non-null object\n",
      "dtypes: float64(7), object(7)\n",
      "memory usage: 110.4+ KB\n"
     ]
    }
   ],
   "source": [
    "\n",
    "\n",
    "data = pd.read_csv(\"./datasets/Train_titanic.csv\")\n",
    "data.head(n=10)\n",
    "column_drop=[\"name\", \"home.dest\",\"boat\",\"body\", \"embarked\",\"cabin\", \"ticket\"]\n",
    "\n",
    "data_train=data.drop(axis=1,\n",
    "    columns=column_drop)\n",
    "\n",
    "dataT= pd.read_csv(\"./datasets/Test_titanic.csv\")\n",
    "data_test= dataT.drop(axis=1, columns= column_drop)\n",
    "data.info()"
   ]
  },
  {
   "cell_type": "code",
   "execution_count": 151,
   "metadata": {},
   "outputs": [
    {
     "data": {
      "text/html": [
       "<div>\n",
       "<style scoped>\n",
       "    .dataframe tbody tr th:only-of-type {\n",
       "        vertical-align: middle;\n",
       "    }\n",
       "\n",
       "    .dataframe tbody tr th {\n",
       "        vertical-align: top;\n",
       "    }\n",
       "\n",
       "    .dataframe thead th {\n",
       "        text-align: right;\n",
       "    }\n",
       "</style>\n",
       "<table border=\"1\" class=\"dataframe\">\n",
       "  <thead>\n",
       "    <tr style=\"text-align: right;\">\n",
       "      <th></th>\n",
       "      <th>pclass</th>\n",
       "      <th>sex</th>\n",
       "      <th>age</th>\n",
       "      <th>sibsp</th>\n",
       "      <th>parch</th>\n",
       "      <th>fare</th>\n",
       "    </tr>\n",
       "  </thead>\n",
       "  <tbody>\n",
       "    <tr>\n",
       "      <th>0</th>\n",
       "      <td>1.0</td>\n",
       "      <td>1</td>\n",
       "      <td>36.0</td>\n",
       "      <td>0.0</td>\n",
       "      <td>0.0</td>\n",
       "      <td>26.3875</td>\n",
       "    </tr>\n",
       "    <tr>\n",
       "      <th>1</th>\n",
       "      <td>3.0</td>\n",
       "      <td>0</td>\n",
       "      <td>NaN</td>\n",
       "      <td>8.0</td>\n",
       "      <td>2.0</td>\n",
       "      <td>69.5500</td>\n",
       "    </tr>\n",
       "    <tr>\n",
       "      <th>2</th>\n",
       "      <td>1.0</td>\n",
       "      <td>1</td>\n",
       "      <td>NaN</td>\n",
       "      <td>0.0</td>\n",
       "      <td>0.0</td>\n",
       "      <td>50.0000</td>\n",
       "    </tr>\n",
       "    <tr>\n",
       "      <th>3</th>\n",
       "      <td>2.0</td>\n",
       "      <td>1</td>\n",
       "      <td>34.0</td>\n",
       "      <td>0.0</td>\n",
       "      <td>0.0</td>\n",
       "      <td>13.0000</td>\n",
       "    </tr>\n",
       "    <tr>\n",
       "      <th>4</th>\n",
       "      <td>2.0</td>\n",
       "      <td>1</td>\n",
       "      <td>28.0</td>\n",
       "      <td>0.0</td>\n",
       "      <td>0.0</td>\n",
       "      <td>13.0000</td>\n",
       "    </tr>\n",
       "    <tr>\n",
       "      <th>5</th>\n",
       "      <td>2.0</td>\n",
       "      <td>0</td>\n",
       "      <td>31.0</td>\n",
       "      <td>1.0</td>\n",
       "      <td>1.0</td>\n",
       "      <td>26.2500</td>\n",
       "    </tr>\n",
       "    <tr>\n",
       "      <th>6</th>\n",
       "      <td>1.0</td>\n",
       "      <td>1</td>\n",
       "      <td>40.0</td>\n",
       "      <td>0.0</td>\n",
       "      <td>0.0</td>\n",
       "      <td>27.7208</td>\n",
       "    </tr>\n",
       "    <tr>\n",
       "      <th>7</th>\n",
       "      <td>3.0</td>\n",
       "      <td>1</td>\n",
       "      <td>NaN</td>\n",
       "      <td>0.0</td>\n",
       "      <td>0.0</td>\n",
       "      <td>7.2292</td>\n",
       "    </tr>\n",
       "    <tr>\n",
       "      <th>8</th>\n",
       "      <td>3.0</td>\n",
       "      <td>1</td>\n",
       "      <td>22.0</td>\n",
       "      <td>0.0</td>\n",
       "      <td>0.0</td>\n",
       "      <td>8.0500</td>\n",
       "    </tr>\n",
       "    <tr>\n",
       "      <th>9</th>\n",
       "      <td>1.0</td>\n",
       "      <td>1</td>\n",
       "      <td>30.0</td>\n",
       "      <td>0.0</td>\n",
       "      <td>0.0</td>\n",
       "      <td>45.5000</td>\n",
       "    </tr>\n",
       "  </tbody>\n",
       "</table>\n",
       "</div>"
      ],
      "text/plain": [
       "   pclass  sex   age  sibsp  parch     fare\n",
       "0     1.0    1  36.0    0.0    0.0  26.3875\n",
       "1     3.0    0   NaN    8.0    2.0  69.5500\n",
       "2     1.0    1   NaN    0.0    0.0  50.0000\n",
       "3     2.0    1  34.0    0.0    0.0  13.0000\n",
       "4     2.0    1  28.0    0.0    0.0  13.0000\n",
       "5     2.0    0  31.0    1.0    1.0  26.2500\n",
       "6     1.0    1  40.0    0.0    0.0  27.7208\n",
       "7     3.0    1   NaN    0.0    0.0   7.2292\n",
       "8     3.0    1  22.0    0.0    0.0   8.0500\n",
       "9     1.0    1  30.0    0.0    0.0  45.5000"
      ]
     },
     "execution_count": 151,
     "metadata": {},
     "output_type": "execute_result"
    }
   ],
   "source": [
    "le = LabelEncoder()\n",
    "\n",
    "data_train[\"sex\"] = le.fit_transform(data_train[\"sex\"])\n",
    "data_test[\"sex\"]= le.fit_transform(data_test[\"sex\"])\n",
    "data_test.head(n=10)\n"
   ]
  },
  {
   "cell_type": "code",
   "execution_count": 152,
   "metadata": {},
   "outputs": [
    {
     "name": "stdout",
     "output_type": "stream",
     "text": [
      "<class 'pandas.core.frame.DataFrame'>\n",
      "RangeIndex: 1009 entries, 0 to 1008\n",
      "Data columns (total 7 columns):\n",
      "pclass      1009 non-null float64\n",
      "survived    1009 non-null float64\n",
      "sex         1009 non-null int32\n",
      "age         1009 non-null float64\n",
      "sibsp       1009 non-null float64\n",
      "parch       1009 non-null float64\n",
      "fare        1009 non-null float64\n",
      "dtypes: float64(6), int32(1)\n",
      "memory usage: 51.3 KB\n",
      "<class 'pandas.core.frame.DataFrame'>\n",
      "RangeIndex: 300 entries, 0 to 299\n",
      "Data columns (total 6 columns):\n",
      "pclass    300 non-null float64\n",
      "sex       300 non-null int32\n",
      "age       300 non-null float64\n",
      "sibsp     300 non-null float64\n",
      "parch     300 non-null float64\n",
      "fare      300 non-null float64\n",
      "dtypes: float64(5), int32(1)\n",
      "memory usage: 13.0 KB\n"
     ]
    }
   ],
   "source": [
    "\n",
    "data_train[\"age\"]=data_train.fillna(data_train[\"age\"].mean())[\"age\"]\n",
    "data_train[\"fare\"]=data_train.fillna(data_train[\"fare\"].mean())[\"fare\"]\n",
    "#data_train[\"body\"]=data_train.fillna(data_train[\"body\"].mean())[\"body\"]\n",
    "data_train.info()\n",
    "data_test[\"age\"]=data_test.fillna(data_test[\"age\"].mean())[\"age\"]\n",
    "#data_test[\"body\"]=data_test.fillna(data_test[\"body\"].mean())[\"body\"]\n",
    "data_test.info()\n"
   ]
  },
  {
   "cell_type": "markdown",
   "metadata": {},
   "source": [
    "# Make and train your tree"
   ]
  },
  {
   "cell_type": "code",
   "execution_count": 153,
   "metadata": {},
   "outputs": [
    {
     "name": "stdout",
     "output_type": "stream",
     "text": [
      "(300,)\n"
     ]
    }
   ],
   "source": [
    "sk_tree= DecisionTreeClassifier(criterion='entropy',max_depth=4)\n",
    "input_col=[\"pclass\", \"sex\", \"age\", \"sibsp\", \"parch\", \"fare\"]\n",
    "output_col=[\"survived\"]\n",
    "\n",
    "sk_tree.fit(data_train[input_col], data_train[output_col])\n",
    "\n",
    "y= sk_tree.predict(data_test[input_col])\n",
    "print(y.shape)\n"
   ]
  },
  {
   "cell_type": "code",
   "execution_count": 154,
   "metadata": {},
   "outputs": [],
   "source": [
    "y= pd.DataFrame(y )\n",
    "y.head(n=10)\n",
    "a = pd.read_csv(\"./datasets/sample_submission.csv\")\n",
    "#y.columns= a.columns\n",
    "y.columns=['survived']\n",
    "y.to_csv(\"./datasets/result_titanic.csv\",\n",
    "    header=True,\n",
    "    index=True,\n",
    "    index_label=\"Id\",)\n",
    "\n",
    "\n",
    "\n"
   ]
  },
  {
   "cell_type": "markdown",
   "metadata": {},
   "source": [
    "# Make prediction using random forest"
   ]
  },
  {
   "cell_type": "code",
   "execution_count": 165,
   "metadata": {},
   "outputs": [],
   "source": [
    "from sklearn.ensemble import RandomForestClassifier\n",
    "from sklearn.model_selection import cross_val_score\n",
    "import matplotlib.pyplot as plt\n",
    "Xtrain= data_train[input_col]\n",
    "Ytrain= np.array(data_train[output_col]).reshape((-1,))\n",
    "Xtest= data_test[input_col]\n",
    "#Ytest= np.array(data_test[output_col]).reshape((-1,))\n"
   ]
  },
  {
   "cell_type": "code",
   "execution_count": 209,
   "metadata": {},
   "outputs": [
    {
     "name": "stdout",
     "output_type": "stream",
     "text": [
      "[0.763041933191187, 0.7621155307207803, 0.778952528000392, 0.7948141068058721, 0.7838982427762664, 0.8028331250153175, 0.7978776070386981, 0.8038281498909395, 0.7987844031076147, 0.8027645026101021, 0.7958483444844742, 0.7948631228095973, 0.8166654412665736, 0.795828738082984, 0.7997696247824915, 0.788873367154376, 0.796823762958606, 0.7859177021297453, 0.7948043036051271, 0.8027841090115923, 0.7839472587799916, 0.8077494301889567, 0.8037595274857241, 0.8126755385633408, 0.7998284439869618, 0.8008234688625837, 0.8027939122123374, 0.795828738082984, 0.8018282969389506, 0.7988040095091047]\n"
     ]
    }
   ],
   "source": [
    "acc_list = []\n",
    "for i in range(30):\n",
    "    acc= cross_val_score(RandomForestClassifier(n_estimators= i+1, max_depth=8,criterion= 'entropy'), Xtrain, Ytrain, cv=5).mean() \n",
    "    acc_list.append(acc)\n",
    "print(acc_list)"
   ]
  },
  {
   "cell_type": "code",
   "execution_count": 210,
   "metadata": {},
   "outputs": [
    {
     "data": {
      "image/png": "[encoded data removed]",
      "text/plain": [
       "<Figure size 576x396 with 1 Axes>"
      ]
     },
     "metadata": {},
     "output_type": "display_data"
    },
    {
     "name": "stdout",
     "output_type": "stream",
     "text": [
      "12\n",
      "0.8166654412665736\n"
     ]
    }
   ],
   "source": [
    "plt.plot(acc_list)\n",
    "plt.style.use(\"seaborn\")\n",
    "plt.show()\n",
    "print(np.argmax(acc_list))\n",
    "print(acc_list[np.argmax(acc_list)])"
   ]
  },
  {
   "cell_type": "code",
   "execution_count": 211,
   "metadata": {},
   "outputs": [
    {
     "name": "stdout",
     "output_type": "stream",
     "text": [
      "(300,)\n"
     ]
    }
   ],
   "source": [
    "rf = RandomForestClassifier(n_estimators=18, criterion='entropy', max_depth= 8)\n",
    "rf.fit(Xtrain, Ytrain)\n",
    "\n",
    "y= rf.predict(Xtest)\n",
    "print(y.shape)"
   ]
  },
  {
   "cell_type": "code",
   "execution_count": 212,
   "metadata": {},
   "outputs": [],
   "source": [
    "y= pd.DataFrame(y )\n",
    "\n",
    "a = pd.read_csv(\"./datasets/sample_submission.csv\")\n",
    "#y.columns= a.columns\n",
    "y.columns=['survived']\n",
    "y.to_csv(\"./datasets/result_titanic.csv\",\n",
    "    header=True,\n",
    "    index=True,\n",
    "    index_label=\"Id\",)\n",
    "\n"
   ]
  },
  {
   "cell_type": "code",
   "execution_count": null,
   "metadata": {},
   "outputs": [],
   "source": []
  }
 ],
 "metadata": {
  "kernelspec": {
   "display_name": "Python 3",
   "language": "python",
   "name": "python3"
  },
  "language_info": {
   "codemirror_mode": {
    "name": "ipython",
    "version": 3
   },
   "file_extension": ".py",
   "mimetype": "text/x-python",
   "name": "python",
   "nbconvert_exporter": "python",
   "pygments_lexer": "ipython3",
   "version": "3.7.3"
  }
 },
 "nbformat": 4,
 "nbformat_minor": 2
}
